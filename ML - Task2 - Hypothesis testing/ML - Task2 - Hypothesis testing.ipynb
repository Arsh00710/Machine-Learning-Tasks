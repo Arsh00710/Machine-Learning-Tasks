{
 "cells": [
  {
   "cell_type": "code",
   "execution_count": 1,
   "id": "36baa455-0559-416e-9d89-c3115122393d",
   "metadata": {},
   "outputs": [],
   "source": [
    "## Hypothesis testing"
   ]
  },
  {
   "cell_type": "code",
   "execution_count": 2,
   "id": "5ce77543-fed2-4316-81ae-07ba8fd7eadd",
   "metadata": {},
   "outputs": [],
   "source": [
    "## Q1.Suppose a child psychologist claims that the average time working mothers spend talking to their children is at least 11 minutes per day. You conduct a random sample of 1000 working mothers and find they spend an average of 11.5 minutes per day talking with their children. Assume prior research suggests the population standard deviation is 2.3 minutes.Conduct a test with a level of significance of alpha = 0.05."
   ]
  },
  {
   "cell_type": "code",
   "execution_count": 3,
   "id": "c869d556-0281-4605-a9e0-7568beee3fcb",
   "metadata": {},
   "outputs": [],
   "source": [
    "from scipy.stats import norm"
   ]
  },
  {
   "cell_type": "code",
   "execution_count": 4,
   "id": "97ae8cc3-e9e9-4743-89d3-45ec2d82324b",
   "metadata": {},
   "outputs": [],
   "source": [
    "#### population_std = 2.3\n",
    "sample_size = 1000\n",
    "sample_mean = 11.5\n",
    "population_mean = 11\n",
    "alpha = 0.05"
   ]
  },
  {
   "cell_type": "code",
   "execution_count": 5,
   "id": "03d746c9-3d85-4bc2-8f3f-6d6f84e9451c",
   "metadata": {},
   "outputs": [],
   "source": [
    "# 1.Formulate Hypotheses:\n",
    "#Null Hypothesis (H0): μ ≤ 11 minutes\n",
    "#Alternative Hypothesis (Ha): μ > 11 minutes"
   ]
  },
  {
   "cell_type": "code",
   "execution_count": 6,
   "id": "fe431fe3-2467-4498-9ecb-56fdb6d2cb0b",
   "metadata": {},
   "outputs": [],
   "source": [
    "# 2.Choose Test Statistic:\n",
    "# Since the population standard deviation is known and the sample size is large (n > 30), we use the Z-test."
   ]
  },
  {
   "cell_type": "code",
   "execution_count": 7,
   "id": "2e87cd47-6ebb-4ba8-b497-b4db048948f6",
   "metadata": {},
   "outputs": [
    {
     "data": {
      "text/plain": [
       "6.874516652539955"
      ]
     },
     "execution_count": 7,
     "metadata": {},
     "output_type": "execute_result"
    }
   ],
   "source": [
    "# Calculate Z-score\n",
    "Z = (sample_mean - population_mean) / (population_std / (sample_size ** 0.5))\n",
    "Z"
   ]
  },
  {
   "cell_type": "code",
   "execution_count": 8,
   "id": "7ba5fd6e-7981-47ac-8274-aec829e6cd49",
   "metadata": {},
   "outputs": [
    {
     "data": {
      "text/plain": [
       "1.6448536269514722"
      ]
     },
     "execution_count": 8,
     "metadata": {},
     "output_type": "execute_result"
    }
   ],
   "source": [
    "# Find critical value for one-tailed test\n",
    "critical_value = norm.ppf(1-alpha)\n",
    "critical_value"
   ]
  },
  {
   "cell_type": "code",
   "execution_count": 9,
   "id": "2fe074a0-da17-48a4-98c4-2443d3a1f95f",
   "metadata": {},
   "outputs": [],
   "source": [
    "# Since the calculated Z-value (6.89) is much greater than the critical Z-value (1.645), we fail to accept null hypothesis."
   ]
  },
  {
   "cell_type": "code",
   "execution_count": 10,
   "id": "22f85444-72c3-4461-adf1-3476f263548c",
   "metadata": {},
   "outputs": [],
   "source": [
    "# Based on the decision, interpret whether there is sufficient evidence to support the psychologist's claim."
   ]
  },
  {
   "cell_type": "code",
   "execution_count": 12,
   "id": "8aa0538f-596a-4937-9291-b75f16550f88",
   "metadata": {},
   "outputs": [],
   "source": [
    "#There is enough evidence to conclude that the average time working mothers spend talking to their children is more than 11 minutes per day."
   ]
  },
  {
   "cell_type": "code",
   "execution_count": 13,
   "id": "14d853d9-6956-4351-a925-b03492637cb5",
   "metadata": {},
   "outputs": [],
   "source": [
    "# Q2. A coffee shop claims that their average wait time for customers is less than 5 minutes. To test this claim, a sample of 40 customers is taken, and their wait times are recorded. The sample mean wait time is found to be 4.6 minutes with a standard deviation of 0.8 minutes. Perform a hypothesis test at a significance level of 0.05 and determine whether there is enough evidence to support the coffee shop's claim."
   ]
  },
  {
   "cell_type": "code",
   "execution_count": 14,
   "id": "f55bcdfe-c1c2-4caf-b98d-962a0be1abde",
   "metadata": {},
   "outputs": [],
   "source": [
    "from scipy.stats import t"
   ]
  },
  {
   "cell_type": "code",
   "execution_count": 15,
   "id": "8cbc1ddd-00d1-4780-8c88-9f6d0992fa1c",
   "metadata": {},
   "outputs": [],
   "source": [
    "# Given data\n",
    "sample_size = 40\n",
    "sample_mean = 4.6\n",
    "sample_std = 0.8\n",
    "population_mean = 5\n",
    "alpha = 0.05"
   ]
  },
  {
   "cell_type": "code",
   "execution_count": 16,
   "id": "985308db-4229-474d-b9ea-a487a4763fba",
   "metadata": {},
   "outputs": [
    {
     "data": {
      "text/plain": [
       "-3.162277660168382"
      ]
     },
     "execution_count": 16,
     "metadata": {},
     "output_type": "execute_result"
    }
   ],
   "source": [
    "# Calculate t-score\n",
    "t_score = (sample_mean - population_mean) / (sample_std / (sample_size ** 0.5))\n",
    "t_score "
   ]
  },
  {
   "cell_type": "code",
   "execution_count": 17,
   "id": "4e1fa038-2b41-45c9-aefc-9f40ea83fbcd",
   "metadata": {},
   "outputs": [
    {
     "data": {
      "text/plain": [
       "39"
      ]
     },
     "execution_count": 17,
     "metadata": {},
     "output_type": "execute_result"
    }
   ],
   "source": [
    "# Degrees of freedom\n",
    "df = sample_size - 1\n",
    "df "
   ]
  },
  {
   "cell_type": "code",
   "execution_count": 18,
   "id": "49684810-2972-4257-a681-1e1678954442",
   "metadata": {},
   "outputs": [
    {
     "data": {
      "text/plain": [
       "-1.684875121711225"
      ]
     },
     "execution_count": 18,
     "metadata": {},
     "output_type": "execute_result"
    }
   ],
   "source": [
    "critical_value = t.ppf(alpha, df)\n",
    "critical_value"
   ]
  },
  {
   "cell_type": "code",
   "execution_count": 19,
   "id": "69df3abf-0165-474b-84eb-a1be60f02a1c",
   "metadata": {},
   "outputs": [],
   "source": [
    "# Since the calculated t-value (-3.16) is less than the critical t-value (-1.685), we fail to accept the null hypothesis."
   ]
  },
  {
   "cell_type": "code",
   "execution_count": 20,
   "id": "ccf69d46-07a3-4901-ad19-19f52d09b594",
   "metadata": {},
   "outputs": [],
   "source": [
    "#Based on the decision, interpret whether there is sufficient evidence to support the coffee shop's claim."
   ]
  },
  {
   "cell_type": "code",
   "execution_count": 21,
   "id": "e3772110-22e9-4923-ab9a-1cd95a2dcf0a",
   "metadata": {},
   "outputs": [],
   "source": [
    "#There is enough evidence to conclude that the average wait time for customers at the coffee shop is less than 5 minutes."
   ]
  },
  {
   "cell_type": "code",
   "execution_count": null,
   "id": "23afd167-4a89-4b92-aacd-673748f332ca",
   "metadata": {},
   "outputs": [],
   "source": []
  }
 ],
 "metadata": {
  "kernelspec": {
   "display_name": "Python 3 (ipykernel)",
   "language": "python",
   "name": "python3"
  },
  "language_info": {
   "codemirror_mode": {
    "name": "ipython",
    "version": 3
   },
   "file_extension": ".py",
   "mimetype": "text/x-python",
   "name": "python",
   "nbconvert_exporter": "python",
   "pygments_lexer": "ipython3",
   "version": "3.11.5"
  }
 },
 "nbformat": 4,
 "nbformat_minor": 5
}
